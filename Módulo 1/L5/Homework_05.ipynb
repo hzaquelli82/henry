{
 "cells": [
  {
   "cell_type": "markdown",
   "metadata": {},
   "source": [
    "# Práctica Clase 5"
   ]
  },
  {
   "cell_type": "markdown",
   "metadata": {},
   "source": [
    "1) Implementar un juego, que consista en apilar números enteros del 1 al 20, de forma aleatoria, para lo cual debe usarse una estructura de Pila. \n",
    "Luego, el usuario debe elegir un número de veces en que se va a quitar elementos de la pila, los cuales, sumados entre sí, no deben superar el valor de 50.\n",
    "El usuario pierde si la suma supera ese valor. Si no lo supera, gana, pero su calificación será 10 menos el número elementos que falten quitar para todavía no superar 50.\n",
    "El programa debe informar si perdió, y si ganó, con qué calificación lo hizo.\n",
    "\n",
    "Consideraciones:<br>\n",
    "a. Se puede usar la función input() para obtener una entrada de teclado.<br>\n",
    "b. Se puede usar la el modulo random para obtener valores aleatorios."
   ]
  },
  {
   "cell_type": "code",
   "execution_count": 2,
   "metadata": {},
   "outputs": [],
   "source": [
    "import random"
   ]
  },
  {
   "cell_type": "code",
   "execution_count": 11,
   "metadata": {},
   "outputs": [
    {
     "name": "stdout",
     "output_type": "stream",
     "text": [
      "[16]\n"
     ]
    }
   ],
   "source": [
    "pila = [random.randrange(1,20,1)]\n",
    "print(pila)\n",
    "# num = input('Escoja la cantidad de números a eliminar')"
   ]
  },
  {
   "cell_type": "code",
   "execution_count": 11,
   "metadata": {},
   "outputs": [],
   "source": [
    "# Opción 1\n",
    "import numpy as np\n",
    "\n",
    "class JuegoDePilas:\n",
    "    \"\"\"Juego de números donde de una lista de números del 1 al 20, distribuidos al azar, se elige \n",
    "    una cantidad al azar. Si la suma de dichos números es mayor a 50 pierde y si es menor a 50 gana.\n",
    "    Si gana se descuenta de 10 la cantidad de números que serían posible seguir sumando, sin\n",
    "    superar 50. Y este es el puntaje\n",
    "    \"\"\"\n",
    "    def __init__(self):\n",
    "        self.__list = []\n",
    "    \n",
    "    def crear_pila(self) -> list:\n",
    "        \"\"\"Método para crear la pila inicial\n",
    "        Genera un objeto list llamado 'numeros'\n",
    "        \"\"\"\n",
    "        self.numeros = [] \n",
    "        self.numeros = np.arange(1,21) \n",
    "        np.random.shuffle(self.numeros)\n",
    "        self.numeros = list(self.numeros) \n",
    "        print('La pila es:',self.numeros) \n",
    "    \n",
    "    def suma_elementos(self, elementos:int) -> int:\n",
    "        \"\"\"Método para determinar la suma de la cantidad de elementos elegida.\n",
    "        Elimina los números que se van sumando de la lista 'numeros'\n",
    "\n",
    "        Args:\n",
    "            elementos (int): Cantidad de elementos a sumar de la lista 'numeros'\n",
    "\n",
    "        Returns:\n",
    "            int: Devuelve el resultado de la suma según la cantidad de elementos elegidos\n",
    "        \"\"\"\n",
    "        self.i = 1 \n",
    "        self.suma = 0 \n",
    "        while (self.i <= elementos):\n",
    "            self.suma += self.numeros.pop() \n",
    "            self.i+=1\n",
    "        return self.suma\n",
    "    \n",
    "    def puntaje(self, resultado:int) -> int:\n",
    "        \"\"\"Método para determinar el puntaje ganador\n",
    "\n",
    "        Args:\n",
    "            resultado (int): Valor que tendrá el resultado de usar el método suma_elementos\n",
    "\n",
    "        Returns:\n",
    "            int: Puntaje final\n",
    "        \"\"\"\n",
    "        self.puntos = 10 \n",
    "        self.sum_resultado = self.resultado \n",
    "        while (self.sum_resultado <= 50):\n",
    "            self.sum_resultado += self.numeros.pop()\n",
    "            self.puntos = self.puntos - 1\n",
    "    \n",
    "        if (self.sum_resultado > 50):\n",
    "            return (self.puntos + 1)\n",
    "        else: \n",
    "            return (self.puntos)\n",
    "\n",
    "\n",
    "    def jugar(self):\n",
    "        \"\"\"Método que define el juego\n",
    "        \"\"\"\n",
    "        self.crear_pila()        \n",
    "        self.cantidad_elementos = int(input('Indique cantidad de elementos a sacar: '))        \n",
    "        print('Se sacarán ',self.cantidad_elementos,' elementos')        \n",
    "        self.resultado = self.suma_elementos(self.cantidad_elementos)        \n",
    "        if (self.resultado > 50):\n",
    "            print('Perdiste, tus números suman', self.resultado)\n",
    "        else:\n",
    "            print('Ganaste con un resultado de ',self.resultado, 'teniendo un puntaje de ',self.puntaje(self.resultado))"
   ]
  },
  {
   "cell_type": "code",
   "execution_count": 14,
   "metadata": {},
   "outputs": [
    {
     "name": "stdout",
     "output_type": "stream",
     "text": [
      "La pila es: [4, 11, 15, 9, 8, 10, 2, 18, 3, 12, 1, 20, 16, 13, 5, 19, 14, 17, 7, 6]\n",
      "Se sacarán  1  elementos\n",
      "Ganaste con un resultado de  6 teniendo un puntaje de  7\n"
     ]
    }
   ],
   "source": [
    "j = JuegoDePilas()\n",
    "j.jugar()"
   ]
  },
  {
   "cell_type": "markdown",
   "metadata": {},
   "source": [
    "2) Implementar un juego donde constas de 2 jarras, de capacidad 5 y 3 litros respectivamente, y debes colocar 4 litros en la jarra de 5L.\n",
    "Las opciones posibles son:\n",
    "* Llenar la jarra de 3 litros\n",
    "* Llenar la jarra de 5 litros\n",
    "* Vaciar la jarra de 3 litros\n",
    "* Vaciar la jarra de 5 litros\n",
    "* Verter el contenido de la jarra de 3 litros en la de 5 litros\n",
    "* Verter el contenido de la jarra de 5 litros en la de 3 litros"
   ]
  },
  {
   "cell_type": "code",
   "execution_count": null,
   "metadata": {},
   "outputs": [],
   "source": [
    "class Juego_Jarra():\n",
    "    def __init__(self):\n",
    "        self.__jarra5 = 0\n",
    "        self.__jarra3 = 0\n",
    "\n",
    "    def llenar(self, jarra):\n",
    "        if jarra == 3:\n",
    "            if self.__jarra3 != 0:\n",
    "                print(\"La jarra de 3 lts ya está llena!\")\n",
    "            else:    \n",
    "                self.__jarra3 = 3\n",
    "                print(\"Jarra de 3 lts llenada.\")\n",
    "        elif jarra == 5:\n",
    "            if self.__jarra5 != 0:\n",
    "                print(\"La jarra de 5 lts ya está llena!\")\n",
    "            else:\n",
    "                self.__jarra5 = 5\n",
    "                print(\"Jarra de 5 lts llenada.\")\n",
    "        else:\n",
    "            print(\"Indique si quiere llenar la jarra 3 o la jarra 5 (ingrese el número)\")\n",
    "    \n",
    "    def vaciar(self,jarra):\n",
    "        if jarra == 3:\n",
    "            if self.__jarra3 == 0:\n",
    "                print(\"La jarra de 3 lts ya está vacía!\")\n",
    "            else:    \n",
    "                self.__jarra3 = 0\n",
    "                print(\"Jarra de 3 lts vaciada.\")\n",
    "        elif jarra == 5:\n",
    "            if self.__jarra5 == 0:\n",
    "                print(\"La jarra de 5 lts ya está vacía!\")\n",
    "            else:\n",
    "                self.__jarra5 = 0\n",
    "                print(\"Jarra de 5 lts vaciada.\")\n",
    "        else:\n",
    "            print(\"Indique si quiere vaciar la jarra 3 o la jarra 5 (ingrese el número)\")\n",
    "\n",
    "    def consultar(self):\n",
    "        print (f\"En la jarra 3 hay {self.__jarra3} lts y en la jarra 5 hay {self.__jarra5} lts.\") \n",
    "    \n",
    "    def verter (self,jarra):\n",
    "        if jarra == 3:\n",
    "            if self.__jarra5 == 0:\n",
    "                self.__jarra5 += self.__jarra3\n",
    "                self.__jarra3 = 0\n",
    "            else:\n",
    "                while (self.__jarra3 != 0 and self.__jarra5 < 5):\n",
    "                    self.__jarra5 += 1\n",
    "                    self.__jarra3 -= 1\n",
    "\n",
    "        elif jarra == 5:\n",
    "            if self.__jarra5 == 0:\n",
    "                pass\n",
    "            else:\n",
    "                while self.__jarra5 != 0 and self.__jarra3 < 3:\n",
    "                    self.__jarra3 += 1\n",
    "                    self.__jarra5 -= 1\n",
    "        print(f\"Ahora la jarra 3 tiene {self.__jarra3} lts y la jarra 5 tiene {self.__jarra5} lts.\")"
   ]
  }
 ],
 "metadata": {
  "kernelspec": {
   "display_name": "Python 3.11.3 64-bit",
   "language": "python",
   "name": "python3"
  },
  "language_info": {
   "codemirror_mode": {
    "name": "ipython",
    "version": 3
   },
   "file_extension": ".py",
   "mimetype": "text/x-python",
   "name": "python",
   "nbconvert_exporter": "python",
   "pygments_lexer": "ipython3",
   "version": "3.11.8"
  },
  "vscode": {
   "interpreter": {
    "hash": "52634da84371cba311ea128a5ea7cdc41ff074b781779e754b270ff9f8153cee"
   }
  }
 },
 "nbformat": 4,
 "nbformat_minor": 4
}
