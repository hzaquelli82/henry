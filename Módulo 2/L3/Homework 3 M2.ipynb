{
 "cells": [
  {
   "cell_type": "code",
   "execution_count": 17,
   "metadata": {},
   "outputs": [
    {
     "name": "stdout",
     "output_type": "stream",
     "text": [
      "0.6666666666666667\n",
      "0.8\n"
     ]
    }
   ],
   "source": [
    "#1-a\n",
    "print(0.4/0.6)\n",
    "#1-b\n",
    "print(0.4/0.5)\n",
    "# No son independientes porque P(A|B) no es igual a A"
   ]
  },
  {
   "cell_type": "code",
   "execution_count": 18,
   "metadata": {},
   "outputs": [],
   "source": [
    "# 2-a (A ∩ B) = 0 . No existe intersección ya que son excluyentes\n",
    "# 2-b (A|B) = 0 / 0.4 = 0\n",
    "# 2-c A y B no son independientes, ya que se puede dar A o de lo contrario se dará B. \n",
    "# Entonces uno depende del otro."
   ]
  },
  {
   "cell_type": "code",
   "execution_count": 19,
   "metadata": {},
   "outputs": [
    {
     "name": "stdout",
     "output_type": "stream",
     "text": [
      "3-a) 0.159375\n",
      "3-b) 0.390625\n"
     ]
    }
   ],
   "source": [
    "# 3\n",
    "print('3-a)', (30/80)*(34/80))\n",
    "print('3-b)', (50/80)**2)\n"
   ]
  },
  {
   "cell_type": "code",
   "execution_count": 1,
   "metadata": {},
   "outputs": [
    {
     "name": "stdout",
     "output_type": "stream",
     "text": [
      "4-a) 0.16139240506329114\n",
      "0.375\n",
      "4-b) 0.3876582278481012\n"
     ]
    }
   ],
   "source": [
    "# 4\n",
    "print('4-a)', (30/80)*(34/79))\n",
    "print('4-b)', (50/80)*(49/79))\n"
   ]
  },
  {
   "cell_type": "code",
   "execution_count": 21,
   "metadata": {},
   "outputs": [
    {
     "name": "stdout",
     "output_type": "stream",
     "text": [
      "0.3227848101265823\n"
     ]
    }
   ],
   "source": [
    "# 5\n",
    "print((30/80)*(34/79)+(34/80)*(30/79)) #como no importa el orden se calculan la probailidad\n",
    "# de ocurrencia de cada caso y se suman."
   ]
  },
  {
   "cell_type": "code",
   "execution_count": 25,
   "metadata": {},
   "outputs": [
    {
     "data": {
      "text/html": [
       "<div>\n",
       "<style scoped>\n",
       "    .dataframe tbody tr th:only-of-type {\n",
       "        vertical-align: middle;\n",
       "    }\n",
       "\n",
       "    .dataframe tbody tr th {\n",
       "        vertical-align: top;\n",
       "    }\n",
       "\n",
       "    .dataframe thead th {\n",
       "        text-align: right;\n",
       "    }\n",
       "</style>\n",
       "<table border=\"1\" class=\"dataframe\">\n",
       "  <thead>\n",
       "    <tr style=\"text-align: right;\">\n",
       "      <th></th>\n",
       "      <th>Si</th>\n",
       "      <th>No</th>\n",
       "      <th>SubT</th>\n",
       "    </tr>\n",
       "  </thead>\n",
       "  <tbody>\n",
       "    <tr>\n",
       "      <th>18 a 34</th>\n",
       "      <td>750</td>\n",
       "      <td>170</td>\n",
       "      <td>920</td>\n",
       "    </tr>\n",
       "    <tr>\n",
       "      <th>35 o mayor</th>\n",
       "      <td>950</td>\n",
       "      <td>130</td>\n",
       "      <td>1080</td>\n",
       "    </tr>\n",
       "    <tr>\n",
       "      <th>Total</th>\n",
       "      <td>1700</td>\n",
       "      <td>300</td>\n",
       "      <td>2000</td>\n",
       "    </tr>\n",
       "  </tbody>\n",
       "</table>\n",
       "</div>"
      ],
      "text/plain": [
       "              Si   No  SubT\n",
       "18 a 34      750  170   920\n",
       "35 o mayor   950  130  1080\n",
       "Total       1700  300  2000"
      ]
     },
     "execution_count": 25,
     "metadata": {},
     "output_type": "execute_result"
    }
   ],
   "source": [
    "# 6\n",
    "import pandas as pd\n",
    "dic_seguro = {'Si':[750,950,750+950],\n",
    "              'No':[170,130,170+130],\n",
    "              'SubT':[750+170,950+130,750+950+170+130]}\n",
    "df_seguro = pd.DataFrame(dic_seguro,index=['18 a 34','35 o mayor','Total'])\n",
    "df_seguro"
   ]
  },
  {
   "cell_type": "code",
   "execution_count": 28,
   "metadata": {},
   "outputs": [
    {
     "data": {
      "text/html": [
       "<div>\n",
       "<style scoped>\n",
       "    .dataframe tbody tr th:only-of-type {\n",
       "        vertical-align: middle;\n",
       "    }\n",
       "\n",
       "    .dataframe tbody tr th {\n",
       "        vertical-align: top;\n",
       "    }\n",
       "\n",
       "    .dataframe thead th {\n",
       "        text-align: right;\n",
       "    }\n",
       "</style>\n",
       "<table border=\"1\" class=\"dataframe\">\n",
       "  <thead>\n",
       "    <tr style=\"text-align: right;\">\n",
       "      <th></th>\n",
       "      <th>Si</th>\n",
       "      <th>No</th>\n",
       "      <th>SubT</th>\n",
       "    </tr>\n",
       "  </thead>\n",
       "  <tbody>\n",
       "    <tr>\n",
       "      <th>18 a 34</th>\n",
       "      <td>0.375</td>\n",
       "      <td>0.085</td>\n",
       "      <td>0.46</td>\n",
       "    </tr>\n",
       "    <tr>\n",
       "      <th>35 o mayor</th>\n",
       "      <td>0.475</td>\n",
       "      <td>0.065</td>\n",
       "      <td>0.54</td>\n",
       "    </tr>\n",
       "    <tr>\n",
       "      <th>Total</th>\n",
       "      <td>0.850</td>\n",
       "      <td>0.150</td>\n",
       "      <td>1.00</td>\n",
       "    </tr>\n",
       "  </tbody>\n",
       "</table>\n",
       "</div>"
      ],
      "text/plain": [
       "               Si     No  SubT\n",
       "18 a 34     0.375  0.085  0.46\n",
       "35 o mayor  0.475  0.065  0.54\n",
       "Total       0.850  0.150  1.00"
      ]
     },
     "execution_count": 28,
     "metadata": {},
     "output_type": "execute_result"
    }
   ],
   "source": [
    "# 6-a\n",
    "df_seguro_p = df_seguro/2000\n",
    "df_seguro_p"
   ]
  },
  {
   "cell_type": "code",
   "execution_count": 31,
   "metadata": {},
   "outputs": [
    {
     "name": "stdout",
     "output_type": "stream",
     "text": [
      "6-b) indica que el 0.46 de la población tiene 18 a 34 años y el 0.54 es de 35 o mayor\n",
      "6-c) es de 0.15\n",
      "6-d) 0.1847826086956522\n",
      "6-e) 0.12037037037037036\n",
      "6-f) 0.5666666666666668\n"
     ]
    }
   ],
   "source": [
    "print('6-b) indica que el 0.46 de la población tiene 18 a 34 años y el 0.54 es de 35 o mayor')\n",
    "print('6-c) es de 0.15')\n",
    "print('6-d)', 0.085/0.46)\n",
    "print('6-e)', 0.065/0.54)\n",
    "print('6-f)', 0.085/0.15)\n"
   ]
  }
 ],
 "metadata": {
  "kernelspec": {
   "display_name": "henry_venv",
   "language": "python",
   "name": "python3"
  },
  "language_info": {
   "codemirror_mode": {
    "name": "ipython",
    "version": 3
   },
   "file_extension": ".py",
   "mimetype": "text/x-python",
   "name": "python",
   "nbconvert_exporter": "python",
   "pygments_lexer": "ipython3",
   "version": "3.11.8"
  }
 },
 "nbformat": 4,
 "nbformat_minor": 2
}
