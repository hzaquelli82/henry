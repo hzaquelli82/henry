{
 "cells": [
  {
   "cell_type": "code",
   "execution_count": 17,
   "metadata": {},
   "outputs": [
    {
     "name": "stdout",
     "output_type": "stream",
     "text": [
      "El Tamaño Muestral es de: 1024\n"
     ]
    }
   ],
   "source": [
    "# Ejercicio 1\n",
    "lanzadas = input('INGRESE LA CANTIDAD DE VECES QUE LANZA LA MONEDA')\n",
    "muestral = 2 ** int(lanzadas)\n",
    "print('El Tamaño Muestral es de:', muestral)"
   ]
  },
  {
   "cell_type": "code",
   "execution_count": 18,
   "metadata": {},
   "outputs": [
    {
     "name": "stdout",
     "output_type": "stream",
     "text": [
      "El Tamaño Muestral es de: 120.0\n"
     ]
    }
   ],
   "source": [
    "# Ejercicio 2\n",
    "pasajeros = 10\n",
    "revisados = 3\n",
    "\n",
    "\n",
    "def factorial(numero:int):\n",
    "    resultado = 1\n",
    "    for i in range(1,numero+1):\n",
    "        resultado *= i\n",
    "    return resultado\n",
    "\n",
    "\n",
    "tamaño_m = factorial(pasajeros) / (factorial(revisados) * factorial(pasajeros - revisados))\n",
    "print('El Tamaño Muestral es de:', tamaño_m)"
   ]
  },
  {
   "cell_type": "code",
   "execution_count": 19,
   "metadata": {},
   "outputs": [
    {
     "data": {
      "text/html": [
       "<div>\n",
       "<style scoped>\n",
       "    .dataframe tbody tr th:only-of-type {\n",
       "        vertical-align: middle;\n",
       "    }\n",
       "\n",
       "    .dataframe tbody tr th {\n",
       "        vertical-align: top;\n",
       "    }\n",
       "\n",
       "    .dataframe thead th {\n",
       "        text-align: right;\n",
       "    }\n",
       "</style>\n",
       "<table border=\"1\" class=\"dataframe\">\n",
       "  <thead>\n",
       "    <tr style=\"text-align: right;\">\n",
       "      <th></th>\n",
       "      <th>Si</th>\n",
       "      <th>No</th>\n",
       "    </tr>\n",
       "  </thead>\n",
       "  <tbody>\n",
       "    <tr>\n",
       "      <th>Norte</th>\n",
       "      <td>148</td>\n",
       "      <td>52</td>\n",
       "    </tr>\n",
       "    <tr>\n",
       "      <th>Noreste</th>\n",
       "      <td>162</td>\n",
       "      <td>54</td>\n",
       "    </tr>\n",
       "    <tr>\n",
       "      <th>Sur</th>\n",
       "      <td>296</td>\n",
       "      <td>74</td>\n",
       "    </tr>\n",
       "    <tr>\n",
       "      <th>Centro</th>\n",
       "      <td>252</td>\n",
       "      <td>48</td>\n",
       "    </tr>\n",
       "    <tr>\n",
       "      <th>Total</th>\n",
       "      <td>858</td>\n",
       "      <td>228</td>\n",
       "    </tr>\n",
       "  </tbody>\n",
       "</table>\n",
       "</div>"
      ],
      "text/plain": [
       "          Si   No\n",
       "Norte    148   52\n",
       "Noreste  162   54\n",
       "Sur      296   74\n",
       "Centro   252   48\n",
       "Total    858  228"
      ]
     },
     "execution_count": 19,
     "metadata": {},
     "output_type": "execute_result"
    }
   ],
   "source": [
    "# Ejercicio 3\n",
    "import pandas as pd\n",
    "import numpy as np\n",
    "\n",
    "\n",
    "dicc_vialidad = {'Si':[148,162,296,252],\n",
    "                 'No':[52,54,74,48]}\n",
    "df_vialidad = pd.DataFrame(dicc_vialidad, index=['Norte','Noreste','Sur','Centro'])\n",
    "\n",
    "total_si = df_vialidad.loc[:,'Si'].sum()\n",
    "total_no = df_vialidad.loc[:,'No'].sum()\n",
    "\n",
    "df_vialidad.loc['Total'] = [total_si, total_no]\n",
    "\n",
    "df_vialidad"
   ]
  },
  {
   "cell_type": "code",
   "execution_count": 20,
   "metadata": {},
   "outputs": [],
   "source": [
    "total_encuesta = df_vialidad.loc['Total'].sum()\n",
    "# print(total_encuesta)\n",
    "\n",
    "df_tabla_contingencia = df_vialidad / total_encuesta"
   ]
  },
  {
   "cell_type": "code",
   "execution_count": 21,
   "metadata": {},
   "outputs": [
    {
     "data": {
      "text/html": [
       "<div>\n",
       "<style scoped>\n",
       "    .dataframe tbody tr th:only-of-type {\n",
       "        vertical-align: middle;\n",
       "    }\n",
       "\n",
       "    .dataframe tbody tr th {\n",
       "        vertical-align: top;\n",
       "    }\n",
       "\n",
       "    .dataframe thead th {\n",
       "        text-align: right;\n",
       "    }\n",
       "</style>\n",
       "<table border=\"1\" class=\"dataframe\">\n",
       "  <thead>\n",
       "    <tr style=\"text-align: right;\">\n",
       "      <th></th>\n",
       "      <th>Si</th>\n",
       "      <th>No</th>\n",
       "      <th>Subtotal</th>\n",
       "    </tr>\n",
       "  </thead>\n",
       "  <tbody>\n",
       "    <tr>\n",
       "      <th>Norte</th>\n",
       "      <td>0.136280</td>\n",
       "      <td>0.047882</td>\n",
       "      <td>0.184162</td>\n",
       "    </tr>\n",
       "    <tr>\n",
       "      <th>Noreste</th>\n",
       "      <td>0.149171</td>\n",
       "      <td>0.049724</td>\n",
       "      <td>0.198895</td>\n",
       "    </tr>\n",
       "    <tr>\n",
       "      <th>Sur</th>\n",
       "      <td>0.272560</td>\n",
       "      <td>0.068140</td>\n",
       "      <td>0.340700</td>\n",
       "    </tr>\n",
       "    <tr>\n",
       "      <th>Centro</th>\n",
       "      <td>0.232044</td>\n",
       "      <td>0.044199</td>\n",
       "      <td>0.276243</td>\n",
       "    </tr>\n",
       "    <tr>\n",
       "      <th>Total</th>\n",
       "      <td>0.790055</td>\n",
       "      <td>0.209945</td>\n",
       "      <td>1.000000</td>\n",
       "    </tr>\n",
       "  </tbody>\n",
       "</table>\n",
       "</div>"
      ],
      "text/plain": [
       "               Si        No  Subtotal\n",
       "Norte    0.136280  0.047882  0.184162\n",
       "Noreste  0.149171  0.049724  0.198895\n",
       "Sur      0.272560  0.068140  0.340700\n",
       "Centro   0.232044  0.044199  0.276243\n",
       "Total    0.790055  0.209945  1.000000"
      ]
     },
     "execution_count": 21,
     "metadata": {},
     "output_type": "execute_result"
    }
   ],
   "source": [
    "df_tabla_contingencia.loc[:,'Subtotal'] = df_tabla_contingencia.sum(axis=1)\n",
    "df_tabla_contingencia"
   ]
  },
  {
   "cell_type": "code",
   "execution_count": 30,
   "metadata": {},
   "outputs": [
    {
     "data": {
      "text/html": [
       "<div>\n",
       "<style scoped>\n",
       "    .dataframe tbody tr th:only-of-type {\n",
       "        vertical-align: middle;\n",
       "    }\n",
       "\n",
       "    .dataframe tbody tr th {\n",
       "        vertical-align: top;\n",
       "    }\n",
       "\n",
       "    .dataframe thead th {\n",
       "        text-align: right;\n",
       "    }\n",
       "</style>\n",
       "<table border=\"1\" class=\"dataframe\">\n",
       "  <thead>\n",
       "    <tr style=\"text-align: right;\">\n",
       "      <th></th>\n",
       "      <th>Si</th>\n",
       "      <th>No</th>\n",
       "      <th>Subtotal</th>\n",
       "      <th>Si por region</th>\n",
       "    </tr>\n",
       "  </thead>\n",
       "  <tbody>\n",
       "    <tr>\n",
       "      <th>Norte</th>\n",
       "      <td>0.136280</td>\n",
       "      <td>0.047882</td>\n",
       "      <td>0.184162</td>\n",
       "      <td>0.740000</td>\n",
       "    </tr>\n",
       "    <tr>\n",
       "      <th>Noreste</th>\n",
       "      <td>0.149171</td>\n",
       "      <td>0.049724</td>\n",
       "      <td>0.198895</td>\n",
       "      <td>0.750000</td>\n",
       "    </tr>\n",
       "    <tr>\n",
       "      <th>Sur</th>\n",
       "      <td>0.272560</td>\n",
       "      <td>0.068140</td>\n",
       "      <td>0.340700</td>\n",
       "      <td>0.800000</td>\n",
       "    </tr>\n",
       "    <tr>\n",
       "      <th>Centro</th>\n",
       "      <td>0.232044</td>\n",
       "      <td>0.044199</td>\n",
       "      <td>0.276243</td>\n",
       "      <td>0.840000</td>\n",
       "    </tr>\n",
       "    <tr>\n",
       "      <th>Total</th>\n",
       "      <td>0.790055</td>\n",
       "      <td>0.209945</td>\n",
       "      <td>1.000000</td>\n",
       "      <td>0.790055</td>\n",
       "    </tr>\n",
       "  </tbody>\n",
       "</table>\n",
       "</div>"
      ],
      "text/plain": [
       "               Si        No  Subtotal  Si por region\n",
       "Norte    0.136280  0.047882  0.184162       0.740000\n",
       "Noreste  0.149171  0.049724  0.198895       0.750000\n",
       "Sur      0.272560  0.068140  0.340700       0.800000\n",
       "Centro   0.232044  0.044199  0.276243       0.840000\n",
       "Total    0.790055  0.209945  1.000000       0.790055"
      ]
     },
     "execution_count": 30,
     "metadata": {},
     "output_type": "execute_result"
    }
   ],
   "source": [
    "# Punto d: Estará satisfecho el porcentaje de personas que usan cinturon es de 79%\n",
    "# Punto e\n",
    "df_tabla_contingencia.loc[:,'Si por region'] = df_tabla_contingencia.loc[:,'Si'] / df_tabla_contingencia.loc[:,'Subtotal']\n",
    "df_tabla_contingencia"
   ]
  },
  {
   "cell_type": "code",
   "execution_count": null,
   "metadata": {},
   "outputs": [],
   "source": [
    "# Se usa más el cinturón en la región Centro, comparando dentro de cada región"
   ]
  },
  {
   "cell_type": "code",
   "execution_count": 3,
   "metadata": {},
   "outputs": [
    {
     "name": "stdout",
     "output_type": "stream",
     "text": [
      "0.5\n",
      "0.5\n",
      "0.25\n",
      "0.15384615384615385\n"
     ]
    }
   ],
   "source": [
    "# Ejercicio 4\n",
    "print(26/52)\n",
    "print(26/52)\n",
    "print(13/52) #para cada palo de la baraja\n",
    "\n",
    "#Ejercicio 5\n",
    "print(8/52) #4 sietes más 4 ochos\n"
   ]
  },
  {
   "cell_type": "code",
   "execution_count": 4,
   "metadata": {},
   "outputs": [
    {
     "name": "stdout",
     "output_type": "stream",
     "text": [
      "0.03125\n"
     ]
    }
   ],
   "source": [
    "# Ejercicio 6\n",
    "\n",
    "print(1/32)"
   ]
  },
  {
   "cell_type": "code",
   "execution_count": 6,
   "metadata": {},
   "outputs": [
    {
     "name": "stdout",
     "output_type": "stream",
     "text": [
      "Probabilidad E1: 0.4\n",
      "Probabilidad E2: 0.34\n",
      "Probabilidad E3: 0.26\n"
     ]
    }
   ],
   "source": [
    "# Ejercicio 7\n",
    "E1 = 20\n",
    "E2 = 17\n",
    "E3 = 13\n",
    "\n",
    "print('Probabilidad E1:', E1/sum((E1, E2, E3)))\n",
    "print('Probabilidad E2:', E2/sum((E1, E2, E3)))\n",
    "print('Probabilidad E3:', E3/sum((E1, E2, E3)))"
   ]
  },
  {
   "cell_type": "markdown",
   "metadata": {},
   "source": [
    "DESAFÍO COMPLEMENTARIO"
   ]
  },
  {
   "cell_type": "code",
   "execution_count": 11,
   "metadata": {},
   "outputs": [
    {
     "name": "stdout",
     "output_type": "stream",
     "text": [
      "a) 0.18666666666666668\n",
      "b) 0.16000000000000003\n"
     ]
    }
   ],
   "source": [
    "# Nº1\n",
    "\n",
    "print('a)', (6/15) * (7/15))\n",
    "print('b)', (6/15) ** 2)\n"
   ]
  },
  {
   "cell_type": "code",
   "execution_count": 14,
   "metadata": {},
   "outputs": [
    {
     "name": "stdout",
     "output_type": "stream",
     "text": [
      "a) 0.7199999999999995\n",
      "b) 0.06\n"
     ]
    }
   ],
   "source": [
    "# Nº2\n",
    "M1 = 0.2\n",
    "M2 = 0.5\n",
    "M3 = 0.6\n",
    "\n",
    "print('a)', (M1+M2+M3)- (M1*M2*M3) - (M1*M2) - (M1*M3) - (M2*M3))\n",
    "print('b)', (M1*M2*M3))"
   ]
  }
 ],
 "metadata": {
  "kernelspec": {
   "display_name": "henry_venv",
   "language": "python",
   "name": "python3"
  },
  "language_info": {
   "codemirror_mode": {
    "name": "ipython",
    "version": 3
   },
   "file_extension": ".py",
   "mimetype": "text/x-python",
   "name": "python",
   "nbconvert_exporter": "python",
   "pygments_lexer": "ipython3",
   "version": "3.11.8"
  }
 },
 "nbformat": 4,
 "nbformat_minor": 2
}
