{
 "cells": [
  {
   "cell_type": "code",
   "execution_count": 1,
   "metadata": {},
   "outputs": [],
   "source": [
    "from math import e, factorial\n",
    "from statistics import NormalDist\n",
    "import pandas as pd\n",
    "import numpy as np\n",
    "import scipy.stats as ss"
   ]
  },
  {
   "cell_type": "code",
   "execution_count": 2,
   "metadata": {},
   "outputs": [
    {
     "data": {
      "text/plain": [
       "0.5"
      ]
     },
     "execution_count": 2,
     "metadata": {},
     "output_type": "execute_result"
    }
   ],
   "source": [
    "ss.binom.pmf(1,1,0.5)"
   ]
  },
  {
   "cell_type": "code",
   "execution_count": 3,
   "metadata": {},
   "outputs": [
    {
     "ename": "SyntaxError",
     "evalue": "invalid syntax (3339265652.py, line 2)",
     "output_type": "error",
     "traceback": [
      "\u001b[0;36m  Cell \u001b[0;32mIn[3], line 2\u001b[0;36m\u001b[0m\n\u001b[0;31m    1 C,C,C.\u001b[0m\n\u001b[0m      ^\u001b[0m\n\u001b[0;31mSyntaxError\u001b[0m\u001b[0;31m:\u001b[0m invalid syntax\n"
     ]
    }
   ],
   "source": [
    "resultados\n",
    "1 C,C,C.\n",
    "2 C,Z,C.\n",
    "3 C,Z,Z.\n",
    "4 Z,C,C.\n",
    "5 Z,Z,C.\n",
    "6 Z,Z,Z.\n",
    "7 C,C,Z.\n",
    "8 Z,C,Z.\n",
    "7/8"
   ]
  },
  {
   "cell_type": "code",
   "execution_count": null,
   "metadata": {},
   "outputs": [
    {
     "name": "stdout",
     "output_type": "stream",
     "text": [
      "0.4\n"
     ]
    }
   ],
   "source": [
    "lista = (1, 2, 3, 4, 5)\n",
    "p_par = 2/5\n",
    "p_impar = 3/5\n",
    "print(p_par)"
   ]
  },
  {
   "cell_type": "code",
   "execution_count": null,
   "metadata": {},
   "outputs": [
    {
     "name": "stdout",
     "output_type": "stream",
     "text": [
      "0.15\n"
     ]
    }
   ],
   "source": [
    "'''caja con\n",
    "5 bolas rojas\n",
    "3 bolas blancas\n",
    "2 bollas negras\n",
    "total 10'''\n",
    "p_rojas = 5/10\n",
    "p_blancas = 3/10\n",
    "p_negras = 2/10\n",
    "\n",
    "print(p_rojas * p_blancas)"
   ]
  },
  {
   "cell_type": "code",
   "execution_count": null,
   "metadata": {},
   "outputs": [
    {
     "data": {
      "text/plain": [
       "0.13190829525545253"
      ]
     },
     "execution_count": 6,
     "metadata": {},
     "output_type": "execute_result"
    }
   ],
   "source": [
    "ss.poisson.pmf(1,5*(2/65))"
   ]
  },
  {
   "cell_type": "code",
   "execution_count": null,
   "metadata": {},
   "outputs": [],
   "source": [
    "#DISTRIBUCIÓN DE POISSON\n",
    "def probabilidad_poisson(lamba_np,x):\n",
    "     probabilidad = (pow(e,-lamba_np) * pow(lamba_np,x))/factorial(x)\n",
    "     return probabilidad"
   ]
  },
  {
   "cell_type": "code",
   "execution_count": null,
   "metadata": {},
   "outputs": [
    {
     "data": {
      "text/plain": [
       "0.1319082952554525"
      ]
     },
     "execution_count": 8,
     "metadata": {},
     "output_type": "execute_result"
    }
   ],
   "source": [
    "p = 2/65\n",
    "n= 5\n",
    "k= 1\n",
    "\n",
    "probabilidad_poisson(n*p,k)"
   ]
  },
  {
   "cell_type": "code",
   "execution_count": null,
   "metadata": {},
   "outputs": [],
   "source": [
    "#DISTRIBUCIÓN HIPERGEOMÉTRICA\n",
    "from scipy import stats\n",
    "#M es N, N es n, n es k, k es x\n",
    "\n",
    "M, n, k, N = [12, 5, 1, 3]\n",
    "# hypergeom.cdf(x, M, n, N)\n",
    "hypergeo = stats.hypergeom(M,n,N)\n",
    "\n",
    "def probabilidad_hipergeometrica(N,X,n,x):\n",
    "  Xx = factorial(X)/(factorial(x)*factorial(X-x))\n",
    "  NX_nx= factorial(N-X)/(factorial(n-x)*factorial((N-X)-(n-x)))\n",
    "  Nn = factorial(N)/(factorial(n)*factorial(N-n))\n",
    "  hipergeometrica = (Xx * NX_nx)/Nn\n",
    "\n",
    "  return hipergeometrica"
   ]
  },
  {
   "cell_type": "code",
   "execution_count": null,
   "metadata": {},
   "outputs": [
    {
     "data": {
      "text/plain": [
       "0.14423076923076922"
      ]
     },
     "execution_count": 10,
     "metadata": {},
     "output_type": "execute_result"
    }
   ],
   "source": [
    "probabilidad_hipergeometrica(65,2,5,1)"
   ]
  },
  {
   "cell_type": "code",
   "execution_count": null,
   "metadata": {},
   "outputs": [
    {
     "name": "stdout",
     "output_type": "stream",
     "text": [
      "0\n",
      "1\n",
      "2\n",
      "0.3233235838169365\n"
     ]
    }
   ],
   "source": [
    "sumatorio = 0\n",
    "for i in range(0,3): \n",
    "    print(i)\n",
    "    sumatorio += probabilidad_poisson(2,i)\n",
    "print(1-sumatorio)"
   ]
  },
  {
   "cell_type": "code",
   "execution_count": null,
   "metadata": {},
   "outputs": [],
   "source": [
    "'''Probabilidad de obtener 3 pares\n",
    "1 p,p,p,i,i,i,i,i,i,i.\n",
    "2 i,p,p,p,i,i,i,i,i,i.\n",
    "3 i,i,p,p,p,i,i,i,i,i.\n",
    "4 i,i,i,p,p,p,i,i,i,i.\n",
    "5 i,i,i,i,p,p,p,i,i,i.\n",
    "6 i,i,i,i,i,p,p,p,i,i.\n",
    "7 i,i,i,i,i,i,p,p,p,i.\n",
    "8 i,i,i,i,i,i,i,p,p,p.'''"
   ]
  },
  {
   "cell_type": "code",
   "execution_count": 6,
   "metadata": {},
   "outputs": [
    {
     "data": {
      "text/plain": [
       "0.1171875"
      ]
     },
     "execution_count": 6,
     "metadata": {},
     "output_type": "execute_result"
    }
   ],
   "source": [
    "ss.binom.pmf(3,10,0.5)"
   ]
  }
 ],
 "metadata": {
  "kernelspec": {
   "display_name": "henry_venv",
   "language": "python",
   "name": "python3"
  },
  "language_info": {
   "codemirror_mode": {
    "name": "ipython",
    "version": 3
   },
   "file_extension": ".py",
   "mimetype": "text/x-python",
   "name": "python",
   "nbconvert_exporter": "python",
   "pygments_lexer": "ipython3",
   "version": "3.11.8"
  }
 },
 "nbformat": 4,
 "nbformat_minor": 2
}
