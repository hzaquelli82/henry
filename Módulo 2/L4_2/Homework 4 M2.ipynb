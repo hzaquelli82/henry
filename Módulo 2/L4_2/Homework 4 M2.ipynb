{
 "cells": [
  {
   "cell_type": "code",
   "execution_count": 1,
   "metadata": {},
   "outputs": [],
   "source": [
    "from math import e, factorial\n",
    "from statistics import NormalDist"
   ]
  },
  {
   "cell_type": "code",
   "execution_count": 2,
   "metadata": {},
   "outputs": [],
   "source": [
    "#DISTRIBUCIÓN BINOMIAL\n",
    "def funcion_binomial(k,n,p):\n",
    "  num_exitos = factorial(n)\n",
    "  num_eventos = factorial (k) * factorial(n-k)\n",
    "  exitos_fracaso = pow(p,k) * pow(1-p,(n-k))\n",
    "\n",
    "  binomial = (num_exitos / num_eventos) * exitos_fracaso\n",
    "\n",
    "  return binomial"
   ]
  },
  {
   "cell_type": "code",
   "execution_count": 3,
   "metadata": {},
   "outputs": [],
   "source": [
    "#DISTRIBUCIÓN DE POISSON\n",
    "def probabilidad_poisson(lamba_np,x):\n",
    "     probabilidad = (pow(e,-lamba_np) * pow(lamba_np,x))/factorial(x)\n",
    "     return probabilidad"
   ]
  },
  {
   "cell_type": "code",
   "execution_count": 4,
   "metadata": {},
   "outputs": [],
   "source": [
    "#DISTRIBUCIÓN HIPERGEOMÉTRICA\n",
    "from scipy import stats\n",
    "#M es N, N es n, n es k, k es x\n",
    "\n",
    "M, n, k, N = [12, 5, 1, 3]\n",
    "# hypergeom.cdf(x, M, n, N)\n",
    "hypergeo = stats.hypergeom(M,n,N)\n",
    "\n",
    "def probabilidad_hipergeometrica(N,X,n,x):\n",
    "  Xx = factorial(X)/(factorial(x)*factorial(X-x))\n",
    "  NX_nx= factorial(N-X)/(factorial(n-x)*factorial((N-X)-(n-x)))\n",
    "  Nn = factorial(N)/(factorial(n)*factorial(N-n))\n",
    "  hipergeometrica = (Xx * NX_nx)/Nn\n",
    "\n",
    "  return hipergeometrica"
   ]
  },
  {
   "cell_type": "code",
   "execution_count": 5,
   "metadata": {},
   "outputs": [],
   "source": [
    "# Ejercicio 1\n",
    "# a) x = tiempo requerido para armar el producto\n",
    "# b) tomará valores positivos mayores a 0\n",
    "# c) Se trata de una variable aleatoria continua"
   ]
  },
  {
   "cell_type": "code",
   "execution_count": 6,
   "metadata": {},
   "outputs": [],
   "source": [
    "# Ejercicio 2\n",
    "# a) Los resultados pueden ser\n",
    "#     cara-cara\n",
    "#     cara-cruz\n",
    "#     cruz-cara\n",
    "#     cruz-cruz\n",
    "# b) x = número de caras entre 1 y 3\n",
    "# c) 0 = cara-cara\n",
    "#    1 = cara-cruz\n",
    "#    2 = cruz-cara\n",
    "#    3 = cruz-cruz\n",
    "# d) Variable discreta"
   ]
  },
  {
   "cell_type": "code",
   "execution_count": 7,
   "metadata": {},
   "outputs": [
    {
     "name": "stdout",
     "output_type": "stream",
     "text": [
      "0.189\n",
      "0.20012094899999994\n"
     ]
    }
   ],
   "source": [
    "# Ejercicio 3\n",
    "# Probabilidad de compra 0.3\n",
    "\n",
    "# a) Es binomial, porque los resultados posibles son compra o no compra\n",
    "# b)¿Cuál es la probabilidad de que dos de los próximos tres clientes realicen una compra?\n",
    "print(funcion_binomial(2,3,0.3))\n",
    "# c)¿Cuál es la probabilidad de que cuatro de los próximos diez clientes realicen una compra?\n",
    "print(funcion_binomial(4,10,0.3))"
   ]
  },
  {
   "cell_type": "code",
   "execution_count": 8,
   "metadata": {},
   "outputs": [
    {
     "name": "stdout",
     "output_type": "stream",
     "text": [
      "0.8\n",
      "0.15629345185053173\n",
      "0.1048372558836594\n",
      "Habrá en espera 4.0 llamadas en espera\n",
      "Probailidad de que no haya llamadas en espera 0.018315638888734186\n",
      "0.09071795328941248\n"
     ]
    }
   ],
   "source": [
    "# Ejercicio 4\n",
    "# 48 llamadas por hora\n",
    "print(48/60)\n",
    "# a. Calcule la probabilidad de recibir cinco llamadas en un lapso de 5 minutos.\n",
    "print(probabilidad_poisson((0.8*5),5))\n",
    "# b. Estime la probabilidad de recibir exactamente 10 llamadas en un lapso de 15 minutos.\n",
    "print(probabilidad_poisson((0.8*15),10))\n",
    "# c.  Suponga que no hay ninguna llamada en espera. Si el agente de viajes necesitará 5 minutos \n",
    "# para la llamada que está atendiendo, ¿cuántas llamadas habrá en espera para cuando él termine? \n",
    "# ¿Cuál es la probabilidad de que no haya ninguna llamada en espera?\n",
    "print('Habrá en espera', (0.8*5), 'llamadas en espera')\n",
    "print('Probailidad de que no haya llamadas en espera', probabilidad_poisson((0.8*5),0))\n",
    "# d. Si en este momento no hay ninguna llamada, ¿cuál es la probabilidad de que el agente de viajes\n",
    "# pueda tomar 3 minutos de descanso sin ser interrumpido por una llamada?\n",
    "print(probabilidad_poisson((0.8*3),0))"
   ]
  },
  {
   "cell_type": "code",
   "execution_count": 9,
   "metadata": {},
   "outputs": [
    {
     "name": "stdout",
     "output_type": "stream",
     "text": [
      "0.525\n",
      "0.8166666666666667\n"
     ]
    }
   ],
   "source": [
    "# Ejercicio 5\n",
    "# En una encuesta realizada por Gallup Organization, se les preguntó a los interrogados,\n",
    "# “Cuál es el deporte que prefieres ver”. Futbol y básquetbol ocuparon el primero y segundo \n",
    "# lugar de preferencia (www.gallup.com, 3 de enero de 2004). Si en un grupo de 10 individuos, \n",
    "# siete prefieren futbol y tres prefieren básquetbol. Se toma una muestra aleatoria de tres de estas \n",
    "# personas.\n",
    "# a. ¿Cuál es la probabilidad de que exactamente dos prefieren el futbol?\n",
    "print(probabilidad_hipergeometrica(10,7,3,2))\n",
    "# b. ¿De que la mayoría (ya sean dos o tres) prefiere el futbol?\n",
    "print(probabilidad_hipergeometrica(10,7,3,2)+probabilidad_hipergeometrica(10,7,3,3))"
   ]
  },
  {
   "cell_type": "code",
   "execution_count": 10,
   "metadata": {},
   "outputs": [
    {
     "name": "stdout",
     "output_type": "stream",
     "text": [
      "0.20012094900000005\n"
     ]
    }
   ],
   "source": [
    "# Ejercicio 6\n",
    "# La probabilidad de que a un estudiante le guste este modulo es de 0.7 (en Henry somos optimistas),\n",
    "# cual es la probabilidad de que les guste este módulo a 6 de los 10 estudiantes.\n",
    "print(funcion_binomial(6,10,0.7))"
   ]
  },
  {
   "cell_type": "code",
   "execution_count": 11,
   "metadata": {},
   "outputs": [
    {
     "name": "stdout",
     "output_type": "stream",
     "text": [
      "0.17218688399999993\n"
     ]
    }
   ],
   "source": [
    "# Ejercico 7\n",
    "# De todos los push a Git en un Henry Challenge, el 90% lo envía a término. Si se envían 9 ¿cuál es\n",
    "# la probabilidad de que 7 lleguen a término?.\n",
    "print(funcion_binomial(7,9,0.9))"
   ]
  },
  {
   "cell_type": "code",
   "execution_count": 12,
   "metadata": {},
   "outputs": [
    {
     "name": "stdout",
     "output_type": "stream",
     "text": [
      "0.9470278620000001\n"
     ]
    }
   ],
   "source": [
    "# Ejercicio 8\n",
    "# En relación con el enunciado anterior cálcule la probabilidad de que 7 o más lleguen a término.\n",
    "# Distribución de Poisson:\n",
    "probabilidad_total = 0\n",
    "for i in range(7,10):\n",
    "    probabilidad_total += funcion_binomial(i,9,0.9)\n",
    "\n",
    "print(probabilidad_total)\n",
    "\n"
   ]
  },
  {
   "cell_type": "code",
   "execution_count": 13,
   "metadata": {},
   "outputs": [
    {
     "data": {
      "text/plain": [
       "0.09007922571921602"
      ]
     },
     "execution_count": 13,
     "metadata": {},
     "output_type": "execute_result"
    }
   ],
   "source": [
    "# Ejercicio 9\n",
    "# La cantidad de alumnos promedio que se ausentan en un día de clases en la carrera de Data Science\n",
    "# es de 10. Calcular cual es la probabilidad de que se ausenten 7 alumnos.\n",
    "probabilidad_poisson(10,7)"
   ]
  },
  {
   "cell_type": "code",
   "execution_count": 14,
   "metadata": {},
   "outputs": [
    {
     "name": "stdout",
     "output_type": "stream",
     "text": [
      "0.10444486295705402\n"
     ]
    }
   ],
   "source": [
    "# Ejercicio 10\n",
    "# Cuando inicia una clase, los estudiantes ingresan a un ritmo de 5 estudiantes por minuto. \n",
    "# Calcular cual es la probabilidad de que ingresen 7 estudiantes por minuto.\n",
    "print(probabilidad_poisson(5,7))"
   ]
  },
  {
   "cell_type": "code",
   "execution_count": 15,
   "metadata": {},
   "outputs": [
    {
     "name": "stdout",
     "output_type": "stream",
     "text": [
      "0.0516488535317584\n"
     ]
    }
   ],
   "source": [
    "# Ejercicio 11\n",
    "# Cada 3 días ingresan 10 estudiantes nuevos al Prep Course de Henry, calcule la probabilidad de que\n",
    "# ingresen 15 nuevos estudiantes en un período de 6 días.\n",
    "print(probabilidad_poisson(20,15))"
   ]
  },
  {
   "cell_type": "code",
   "execution_count": 16,
   "metadata": {},
   "outputs": [
    {
     "data": {
      "text/plain": [
       "0.950212931632136"
      ]
     },
     "execution_count": 16,
     "metadata": {},
     "output_type": "execute_result"
    }
   ],
   "source": [
    "# Ejercicio 12\n",
    "# En una distribución de Poisson de lamba_np=3, cual es la probabilidad de x>=1.\n",
    "1-probabilidad_poisson(3,0)"
   ]
  },
  {
   "cell_type": "code",
   "execution_count": 34,
   "metadata": {},
   "outputs": [
    {
     "name": "stdout",
     "output_type": "stream",
     "text": [
      "z= 0.48\n",
      "0.3156136965162226\n",
      "0.3156136965162226\n"
     ]
    }
   ],
   "source": [
    "# Ejercicio 13\n",
    "# La calificación promedio de los estudiantes de Henry es de 78 con una desviación estandar de 25.\n",
    "# Cual es la probabilidad de tener estudiantes con calificaciones mayores o iguales 90.\n",
    "print('z=',(90-78)/25)\n",
    "from scipy.stats import norm\n",
    "media = 0\n",
    "std = 1\n",
    "x = 0.48\n",
    "probabilidad_normal = norm.cdf(0.48)\n",
    "print(1-probabilidad_normal)\n",
    "print(1-norm.cdf(90,78,25))"
   ]
  }
 ],
 "metadata": {
  "kernelspec": {
   "display_name": "henry_venv",
   "language": "python",
   "name": "python3"
  },
  "language_info": {
   "codemirror_mode": {
    "name": "ipython",
    "version": 3
   },
   "file_extension": ".py",
   "mimetype": "text/x-python",
   "name": "python",
   "nbconvert_exporter": "python",
   "pygments_lexer": "ipython3",
   "version": "3.11.8"
  }
 },
 "nbformat": 4,
 "nbformat_minor": 2
}
