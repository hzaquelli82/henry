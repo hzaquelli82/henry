{
 "cells": [
  {
   "cell_type": "markdown",
   "metadata": {},
   "source": [
    "## 1\n",
    "Todas las métricas no son KPIs, pero todos los KPIs están basados en métricas.<br>\n",
    "*<br>\n",
    "Verdadero"
   ]
  },
  {
   "cell_type": "markdown",
   "metadata": {},
   "source": [
    "## 2\n",
    "Dentro del modelo probabilístico siempre es posible manejar todos los datos asociados a los factores que afectan un fenómeno, pudiendo predecir los resultados.<br>\n",
    "*<br>\n",
    "Falso"
   ]
  },
  {
   "cell_type": "markdown",
   "metadata": {},
   "source": [
    "## 3\n",
    "Dos sucesos son compatibles:<br>\n",
    "*<br>\n",
    "((((1- Cuando pueden ocurrir al mismo tiempo.))))<br>\n",
    "2- Cuando son mutuamente excluyentes.<br>\n",
    "3- Cuando corresponden a un conjunto de eventos colectivamente exhaustivo.<br>"
   ]
  },
  {
   "cell_type": "markdown",
   "metadata": {},
   "source": [
    "## 4\n",
    "El espacio muestral es:<br>  \n",
    "*<br>\n",
    "((((1- El conjunto de todos los resultados posibles de un experimento.))))<br>\n",
    "2- Una tabla con las distintas funciones de probabilidad.<br>\n",
    "3- Un evento que puede describirse con una característica única.<br>"
   ]
  },
  {
   "cell_type": "markdown",
   "metadata": {},
   "source": [
    "## 5\n",
    "\n",
    "Si los sucesos A y B son mutuamente excluyentes, entonces siempre sucede que: <br>\n",
    "*<br>\n",
    "a - La probabilidad de que suceda B (P(B)) se calcula como el inverso de la probabilidad de que suceda a (1-P(A))<br>\n",
    "b - Debe ocurrir al menos uno de los sucesos, es decir: si no sucede A, debe suceder B y viceversa.<br>\n",
    "((((c - Si dentro de un experimento aleatorio ocurre el suceso A, no es posible la ocurrencia del suceso B.))))<br>"
   ]
  },
  {
   "cell_type": "markdown",
   "metadata": {},
   "source": [
    "## Responde las siguientes preguntas sobre Estadística y Probabilidad\n",
    "## Las respuestas sobre probabilidades se deben expresar entre 0 y 1, y con el criterio ya mencionado de redondeo a dos decimales. Ej: no 25%, sino 0.25"
   ]
  },
  {
   "cell_type": "markdown",
   "metadata": {},
   "source": [
    "## 6\n",
    "\n",
    "En una ciudad, la probabilidad de lluvia cualquier día, es de 0.2, ¿Cuál es la probabilidad de que en esa ciudad, llueva durante 2 días seguidos?"
   ]
  },
  {
   "cell_type": "code",
   "execution_count": 2,
   "metadata": {},
   "outputs": [
    {
     "data": {
      "text/plain": [
       "0.04"
      ]
     },
     "execution_count": 2,
     "metadata": {},
     "output_type": "execute_result"
    }
   ],
   "source": [
    "round((0.2**2),2)"
   ]
  },
  {
   "cell_type": "markdown",
   "metadata": {},
   "source": [
    "## 7\n",
    "\n",
    "Calcular la media para este conjunto de datos [22,32,15,25,31,25,17,25,14,25,17,21,19]"
   ]
  },
  {
   "cell_type": "code",
   "execution_count": 7,
   "metadata": {},
   "outputs": [
    {
     "data": {
      "text/plain": [
       "22.15"
      ]
     },
     "execution_count": 7,
     "metadata": {},
     "output_type": "execute_result"
    }
   ],
   "source": [
    "import numpy as np\n",
    "\n",
    "lista = [22,32,15,25,31,25,17,25,14,25,17,21,19]\n",
    "listarr = np.array(lista)\n",
    "round((np.mean(listarr)),2)"
   ]
  },
  {
   "cell_type": "markdown",
   "metadata": {},
   "source": [
    "## 8\n",
    "\n",
    "Suponiendo que A y B son dos sucesos independientes con P(A) = 0,2 y P(B) = 0,3, ¿Cuál es la probabilidad de que al menos uno ocurra?"
   ]
  },
  {
   "cell_type": "markdown",
   "metadata": {},
   "source": [
    "## 9\n",
    "\n",
    "Un estudiante quiere responder a la suerte 5 preguntas en un examen de falso y verdadero. ¿Cuál sería la probabilidad de que acertara todas las preguntas?"
   ]
  },
  {
   "cell_type": "code",
   "execution_count": 13,
   "metadata": {},
   "outputs": [
    {
     "data": {
      "text/plain": [
       "0.03"
      ]
     },
     "execution_count": 13,
     "metadata": {},
     "output_type": "execute_result"
    }
   ],
   "source": [
    "round((0.5**5),2)"
   ]
  },
  {
   "cell_type": "markdown",
   "metadata": {},
   "source": [
    "## 10\n",
    "\n",
    "De un lote de 10 proyectiles se seleccionan 4 y se disparan. Sí el lote contiene 3 proyectiles defectuosos que no explotarán. ¿Cuál es la probabilidad de qué los 4 exploten?"
   ]
  },
  {
   "cell_type": "code",
   "execution_count": 33,
   "metadata": {},
   "outputs": [
    {
     "name": "stdout",
     "output_type": "stream",
     "text": [
      "0.17\n"
     ]
    }
   ],
   "source": [
    "from math import e, factorial\n",
    "\n",
    "# N = 10 poblacion\n",
    "# X = 7 explotan\n",
    "# n = 4 muestra\n",
    "# x = 4 numero de exito (explotan)\n",
    "\n",
    "def probabilidad_hipergeometrica(N,X,n,x):\n",
    "    Xx = factorial(X)/(factorial(x)*factorial(X-x))\n",
    "    NX_nx= factorial(N-X)/(factorial(n-x)*factorial((N-X)-(n-x)))\n",
    "    Nn = factorial(N)/(factorial(n)*factorial(N-n))\n",
    "    hipergeometrica = (Xx * NX_nx)/Nn\n",
    "\n",
    "    return hipergeometrica\n",
    "\n",
    "print(round((probabilidad_hipergeometrica(10,7,4,4)),2))"
   ]
  },
  {
   "cell_type": "markdown",
   "metadata": {},
   "source": [
    "## 11\n",
    "\n",
    "¿Cuál es el canal de ventas con menos venta (Venta = Precio * Cantidad)?<br>\n",
    "*<br>\n",
    "1- OnLine<br>\n",
    "2- Telefónica<br>\n",
    "((((3- Presencial))))<br>"
   ]
  },
  {
   "cell_type": "code",
   "execution_count": null,
   "metadata": {},
   "outputs": [],
   "source": [
    "select IdCanal, sum(Cantidad * Precio) as total_ventas\n",
    "from venta\n",
    "group by IdCanal\n",
    "order by total_ventas;\n",
    "\n",
    "# resultado 3- Presencial"
   ]
  },
  {
   "cell_type": "markdown",
   "metadata": {},
   "source": [
    "## 12\n",
    "\n",
    "¿Cuál es el canal de venta que tiene la segunda posición en cantidad de ventas en 2020?<br>\n",
    "*<br>\n",
    "((((1- Telefónica))))<br>\n",
    "2- OnLine<br>\n",
    "3- Presencial<br>"
   ]
  },
  {
   "cell_type": "markdown",
   "metadata": {},
   "source": [
    "## 13\n",
    "\n",
    "La dirección desea saber que tipo de producto tiene la mayor venta en 2020 (Tabla \"producto\", campo Tipo = Tipo de producto)<br>\n",
    "*<br>\n",
    "((((1- INFORMATICA))))<br>\n",
    "2- ESTUCHERIA<br>\n",
    "3- AUDIO<br>\n",
    "4- IMPRESIÓN<br>\n",
    "5- GABINETES<br>\n",
    "6- GRABACION<br>\n",
    "7- BASES<br>\n",
    "8- GAMING<br>"
   ]
  },
  {
   "cell_type": "code",
   "execution_count": null,
   "metadata": {},
   "outputs": [],
   "source": [
    "select producto.Tipo, sum(venta.Cantidad) as unidades_vendidas, sum(venta.Precio) as ingresos, (sum(venta.Cantidad) *sum(venta.Precio)) as total\n",
    "from producto\n",
    "inner join venta on (producto.IDProducto = venta.IdProducto)\n",
    "where year(venta.Fecha) = 2020\n",
    "group by producto.Tipo\n",
    "order by total desc;\n",
    "\n",
    "# resultado 1- INFORMATICA "
   ]
  },
  {
   "cell_type": "markdown",
   "metadata": {},
   "source": [
    "## 14\n",
    "\n",
    "Se define el tiempo de entrega como el tiempo en días transcurrido entre que se realiza la compra y se efectua la entrega. Para realizar mejoras la dirección desea saber cuál es el mes con su respectivo año, con el promedio más bajo de este tiempo de entrega. (Fecha = Fecha de venta, Fecha_Entrega = Fecha de entrega) Proporcionar la respuesta con este formato: MMYYYY. (Si es Marzo del 2020 -> 032020)<br>\n",
    "*<br>\n",
    "122018<br>\n",
    "((((122017))))<br>\n",
    "052020<br>\n",
    "112019<br>"
   ]
  },
  {
   "cell_type": "code",
   "execution_count": null,
   "metadata": {},
   "outputs": [],
   "source": [
    "select avg(timestampdiff(Day, Fecha, Fecha_Entrega)) as Tiempo_Entrega, date_format(Fecha,'%m%Y') as fecha_nueva\n",
    "from venta\n",
    "group by fecha_nueva\n",
    "order by Tiempo_Entrega asc;\n",
    "\n",
    "# resultado 122017"
   ]
  },
  {
   "cell_type": "markdown",
   "metadata": {},
   "source": [
    "## 15\n",
    "\n",
    "¿Cuántos productos poseen un tipo que comienza con la letra \"I\" (letra i latina)?<br>\n",
    "*<br>\n",
    "127<br>\n",
    "200<br>\n",
    "120<br>\n",
    "((((126))))<br>"
   ]
  },
  {
   "cell_type": "code",
   "execution_count": null,
   "metadata": {},
   "outputs": [],
   "source": [
    "select count(*)\n",
    "from producto\n",
    "where Tipo like'I%';\n",
    "\n",
    "# resultado 126"
   ]
  },
  {
   "cell_type": "markdown",
   "metadata": {},
   "source": [
    "## 16\n",
    "\n",
    "¿Cuál es el id del Producto cuyo  nombre/concepto es EPSON COPYFAX 2000?<br>\n",
    "*<br>\n",
    "((((42737))))<br>\n",
    "42040<br>\n",
    "42974<br>\n",
    "42867<br>"
   ]
  },
  {
   "cell_type": "code",
   "execution_count": null,
   "metadata": {},
   "outputs": [],
   "source": [
    "select IDProducto\n",
    "from producto\n",
    "where Concepto = 'EPSON COPYFAX 2000';\n",
    "\n",
    "# resultado 42737"
   ]
  },
  {
   "cell_type": "markdown",
   "metadata": {},
   "source": [
    "## 17\n",
    "\n",
    "¿Cuál es el id del Producto cuyo nombre/concepto es PARLANTE JBL GO ORANGE BLUETOOTH?<br>\n",
    "*<br>\n",
    "42840<br>\n",
    "((((42835))))<br>\n",
    "42677<br>\n",
    "42159<br>"
   ]
  },
  {
   "cell_type": "code",
   "execution_count": null,
   "metadata": {},
   "outputs": [],
   "source": [
    "select IDProducto\n",
    "from producto\n",
    "where Concepto = 'PARLANTE JBL GO ORANGE BLUETOOTH';\n",
    "\n",
    "# resultado 42835"
   ]
  },
  {
   "cell_type": "markdown",
   "metadata": {},
   "source": [
    "## 18\n",
    "\n",
    "Cual fue el mes (Fecha = Fecha de Venta) con menor venta (Venta = Precio*Cantidad) de la sucursal 13 para el año 2015 ?<br>\n",
    "*<br>\n",
    "a - 9<br>\n",
    "((((b - 3))))<br>\n",
    "c - 12<br>\n",
    "d - 6--------------- correcion<br> \n",
    "e - 8<br>"
   ]
  },
  {
   "cell_type": "code",
   "execution_count": null,
   "metadata": {},
   "outputs": [],
   "source": [
    "select DATE_FORMAT(fecha,'%m') as Mes, IdSucursal, sum(Cantidad * Precio) as Ingresos \n",
    "from venta\n",
    "where IdSucursal = 13 and year(Fecha) = 2015\n",
    "group by Mes\n",
    "order by Ingresos asc;\n",
    "\n",
    "# resultado mes 6"
   ]
  }
 ],
 "metadata": {
  "kernelspec": {
   "display_name": "Python 3",
   "language": "python",
   "name": "python3"
  },
  "language_info": {
   "codemirror_mode": {
    "name": "ipython",
    "version": 3
   },
   "file_extension": ".py",
   "mimetype": "text/x-python",
   "name": "python",
   "nbconvert_exporter": "python",
   "pygments_lexer": "ipython3",
   "version": "3.11.4"
  },
  "orig_nbformat": 4
 },
 "nbformat": 4,
 "nbformat_minor": 2
}
